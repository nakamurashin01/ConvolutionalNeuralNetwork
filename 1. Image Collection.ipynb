{
 "cells": [
  {
   "cell_type": "markdown",
   "metadata": {},
   "source": [
    "# 1. Import Dependencies"
   ]
  },
  {
   "cell_type": "code",
   "execution_count": 1,
   "metadata": {},
   "outputs": [
    {
     "name": "stdout",
     "output_type": "stream",
     "text": [
      "Requirement already satisfied: opencv-python in c:\\users\\raypa\\appdata\\local\\programs\\python\\python37\\lib\\site-packages (4.11.0.86)\n",
      "Requirement already satisfied: numpy>=1.17.0 in c:\\users\\raypa\\appdata\\local\\programs\\python\\python37\\lib\\site-packages (from opencv-python) (1.21.6)\n"
     ]
    }
   ],
   "source": [
    "!pip install opencv-python"
   ]
  },
  {
   "cell_type": "code",
   "execution_count": 8,
   "metadata": {},
   "outputs": [],
   "source": [
    "# Import opencv\n",
    "import cv2 \n",
    "\n",
    "# Import uuid\n",
    "import uuid\n",
    "\n",
    "# Import Operating System\n",
    "import os\n",
    "\n",
    "# Import time\n",
    "import time"
   ]
  },
  {
   "cell_type": "markdown",
   "metadata": {},
   "source": [
    "# 2. Define Images to Collect"
   ]
  },
  {
   "cell_type": "code",
   "execution_count": 15,
   "metadata": {},
   "outputs": [],
   "source": [
    "labels = ['thumbsup', 'thumbsdown', 'thankyou', 'livelong']\n",
    "number_imgs = 5"
   ]
  },
  {
   "cell_type": "markdown",
   "metadata": {},
   "source": [
    "# 3. Setup Folders "
   ]
  },
  {
   "cell_type": "code",
   "execution_count": 16,
   "metadata": {},
   "outputs": [],
   "source": [
    "IMAGES_PATH = os.path.join('Tensorflow', 'workspace', 'images', 'collectedimages')"
   ]
  },
  {
   "cell_type": "code",
   "execution_count": 17,
   "metadata": {},
   "outputs": [],
   "source": [
    "if not os.path.exists(IMAGES_PATH):\n",
    "    if os.name == 'posix':\n",
    "        !mkdir -p {IMAGES_PATH}\n",
    "    if os.name == 'nt':\n",
    "         !mkdir {IMAGES_PATH}\n",
    "for label in labels:\n",
    "    path = os.path.join(IMAGES_PATH, label)\n",
    "    if not os.path.exists(path):\n",
    "        !mkdir {path}"
   ]
  },
  {
   "cell_type": "markdown",
   "metadata": {},
   "source": [
    "# 4. Capture Images"
   ]
  },
  {
   "cell_type": "code",
   "execution_count": 18,
   "metadata": {},
   "outputs": [
    {
     "name": "stdout",
     "output_type": "stream",
     "text": [
      "Collecting images for thumbsup\n",
      "Collecting image 0\n",
      "Collecting image 1\n",
      "Collecting image 2\n",
      "Collecting image 3\n",
      "Collecting image 4\n"
     ]
    }
   ],
   "source": [
    "for label in labels:\n",
    "    cap = cv2.VideoCapture(0)\n",
    "    print('Collecting images for {}'.format(label))\n",
    "    time.sleep(5)\n",
    "    for imgnum in range(number_imgs):\n",
    "        print('Collecting image {}'.format(imgnum))\n",
    "        ret, frame = cap.read()\n",
    "        imgname = os.path.join(IMAGES_PATH,label,label+'.'+'{}.jpg'.format(str(uuid.uuid1())))\n",
    "        cv2.imwrite(imgname, frame)\n",
    "        cv2.imshow('frame', frame)\n",
    "        time.sleep(2)\n",
    "\n",
    "        if cv2.waitKey(1) & 0xFF == ord('q'):\n",
    "            break\n",
    "cap.release()\n",
    "cv2.destroyAllWindows()"
   ]
  },
  {
   "cell_type": "markdown",
   "metadata": {},
   "source": [
    "# 5. Image Labelling"
   ]
  },
  {
   "cell_type": "code",
   "execution_count": 9,
   "metadata": {
    "scrolled": true
   },
   "outputs": [
    {
     "name": "stdout",
     "output_type": "stream",
     "text": [
      "Collecting pyqt5\n",
      "  Downloading PyQt5-5.15.10-cp37-abi3-win_amd64.whl.metadata (2.2 kB)\n",
      "Requirement already satisfied: lxml in c:\\users\\raypa\\appdata\\local\\programs\\python\\python37\\lib\\site-packages (5.3.1)\n",
      "Collecting PyQt5-sip<13,>=12.13 (from pyqt5)\n",
      "  Downloading PyQt5_sip-12.13.0.tar.gz (123 kB)\n",
      "     ------------------------------------ 123.2/123.2 kB 604.2 kB/s eta 0:00:00\n",
      "  Installing build dependencies: started\n",
      "  Installing build dependencies: finished with status 'done'\n",
      "  Getting requirements to build wheel: started\n",
      "  Getting requirements to build wheel: finished with status 'done'\n",
      "  Preparing metadata (pyproject.toml): started\n",
      "  Preparing metadata (pyproject.toml): finished with status 'done'\n",
      "Collecting PyQt5-Qt5>=5.15.2 (from pyqt5)\n",
      "  Downloading PyQt5_Qt5-5.15.2-py3-none-win_amd64.whl.metadata (552 bytes)\n",
      "Downloading PyQt5-5.15.10-cp37-abi3-win_amd64.whl (6.8 MB)\n",
      "   ---------------------------------------- 6.8/6.8 MB 1.1 MB/s eta 0:00:00\n",
      "Downloading PyQt5_Qt5-5.15.2-py3-none-win_amd64.whl (50.1 MB)\n",
      "   ---------------------------------------- 50.1/50.1 MB 2.0 MB/s eta 0:00:00\n",
      "Building wheels for collected packages: PyQt5-sip\n",
      "  Building wheel for PyQt5-sip (pyproject.toml): started\n",
      "  Building wheel for PyQt5-sip (pyproject.toml): finished with status 'done'\n",
      "  Created wheel for PyQt5-sip: filename=PyQt5_sip-12.13.0-cp37-cp37m-win_amd64.whl size=78401 sha256=6311dce96b2501ed8e2d140f08e406757063a599be1298167c43024e70732795\n",
      "  Stored in directory: c:\\users\\raypa\\appdata\\local\\pip\\cache\\wheels\\91\\c7\\b2\\d527a3f96deb5c96d3803ef9923ec5acde63b6c3a3f694decf\n",
      "Successfully built PyQt5-sip\n",
      "Installing collected packages: PyQt5-Qt5, PyQt5-sip, pyqt5\n",
      "Successfully installed PyQt5-Qt5-5.15.2 PyQt5-sip-12.13.0 pyqt5-5.15.10\n"
     ]
    }
   ],
   "source": [
    "!pip install --upgrade pyqt5 lxml"
   ]
  },
  {
   "cell_type": "code",
   "execution_count": 2,
   "metadata": {},
   "outputs": [],
   "source": [
    "import os"
   ]
  },
  {
   "cell_type": "code",
   "execution_count": 3,
   "metadata": {},
   "outputs": [],
   "source": [
    "LABELIMG_PATH = os.path.join('Tensorflow', 'labelimg')"
   ]
  },
  {
   "cell_type": "code",
   "execution_count": 4,
   "metadata": {},
   "outputs": [],
   "source": [
    "if not os.path.exists(LABELIMG_PATH):\n",
    "    !mkdir {LABELIMG_PATH}\n",
    "    !git clone https://github.com/tzutalin/labelImg {LABELIMG_PATH}"
   ]
  },
  {
   "cell_type": "code",
   "execution_count": 5,
   "metadata": {},
   "outputs": [],
   "source": [
    "if os.name == 'posix':\n",
    "    !make qt5py3\n",
    "if os.name =='nt':\n",
    "    !cd {LABELIMG_PATH} && pyrcc5 -o libs/resources.py resources.qrc"
   ]
  },
  {
   "cell_type": "code",
   "execution_count": 6,
   "metadata": {},
   "outputs": [
    {
     "name": "stdout",
     "output_type": "stream",
     "text": [
      "Cancel creation.\n",
      "Cancel creation.\n",
      "Image:F:\\tumor_detection\\TFODCourse\\Tensorflow\\workspace\\images\\glioma\\1014.jpg -> Annotation:F:/tumor_detection/TFODCourse/Tensorflow/workspace/images/glioma\\1014.xml\n",
      "Image:F:\\tumor_detection\\TFODCourse\\Tensorflow\\workspace\\images\\glioma\\1015.jpg -> Annotation:F:/tumor_detection/TFODCourse/Tensorflow/workspace/images/glioma\\1015.xml\n",
      "Image:F:\\tumor_detection\\TFODCourse\\Tensorflow\\workspace\\images\\glioma\\1016.jpg -> Annotation:F:/tumor_detection/TFODCourse/Tensorflow/workspace/images/glioma\\1016.xml\n",
      "Image:F:\\tumor_detection\\TFODCourse\\Tensorflow\\workspace\\images\\glioma\\1017.jpg -> Annotation:F:/tumor_detection/TFODCourse/Tensorflow/workspace/images/glioma\\1017.xml\n",
      "Image:F:\\tumor_detection\\TFODCourse\\Tensorflow\\workspace\\images\\glioma\\1018.jpg -> Annotation:F:/tumor_detection/TFODCourse/Tensorflow/workspace/images/glioma\\1018.xml\n",
      "Image:F:\\tumor_detection\\TFODCourse\\Tensorflow\\workspace\\images\\glioma\\1019.jpg -> Annotation:F:/tumor_detection/TFODCourse/Tensorflow/workspace/images/glioma\\1019.xml\n",
      "Image:F:\\tumor_detection\\TFODCourse\\Tensorflow\\workspace\\images\\glioma\\1020.jpg -> Annotation:F:/tumor_detection/TFODCourse/Tensorflow/workspace/images/glioma\\1020.xml\n",
      "Image:F:\\tumor_detection\\TFODCourse\\Tensorflow\\workspace\\images\\glioma\\1021.jpg -> Annotation:F:/tumor_detection/TFODCourse/Tensorflow/workspace/images/glioma\\1021.xml\n",
      "Image:F:\\tumor_detection\\TFODCourse\\Tensorflow\\workspace\\images\\glioma\\1022.jpg -> Annotation:F:/tumor_detection/TFODCourse/Tensorflow/workspace/images/glioma\\1022.xml\n",
      "Image:F:\\tumor_detection\\TFODCourse\\Tensorflow\\workspace\\images\\glioma\\1023.jpg -> Annotation:F:/tumor_detection/TFODCourse/Tensorflow/workspace/images/glioma\\1023.xml\n",
      "Image:F:\\tumor_detection\\TFODCourse\\Tensorflow\\workspace\\images\\glioma\\1096.jpg -> Annotation:F:/tumor_detection/TFODCourse/Tensorflow/workspace/images/glioma\\1096.xml\n",
      "Image:F:\\tumor_detection\\TFODCourse\\Tensorflow\\workspace\\images\\glioma\\1097.jpg -> Annotation:F:/tumor_detection/TFODCourse/Tensorflow/workspace/images/glioma\\1097.xml\n",
      "Image:F:\\tumor_detection\\TFODCourse\\Tensorflow\\workspace\\images\\glioma\\1098.jpg -> Annotation:F:/tumor_detection/TFODCourse/Tensorflow/workspace/images/glioma\\1098.xml\n",
      "Image:F:\\tumor_detection\\TFODCourse\\Tensorflow\\workspace\\images\\glioma\\1099.jpg -> Annotation:F:/tumor_detection/TFODCourse/Tensorflow/workspace/images/glioma\\1099.xml\n",
      "Image:F:\\tumor_detection\\TFODCourse\\Tensorflow\\workspace\\images\\glioma\\Tr-gl_1100.jpg -> Annotation:F:/tumor_detection/TFODCourse/Tensorflow/workspace/images/glioma\\Tr-gl_1100.xml\n",
      "Image:F:\\tumor_detection\\TFODCourse\\Tensorflow\\workspace\\images\\meningioma\\1170.jpg -> Annotation:F:/tumor_detection/TFODCourse/Tensorflow/workspace/images/meningioma\\1170.xml\n",
      "Image:F:\\tumor_detection\\TFODCourse\\Tensorflow\\workspace\\images\\meningioma\\1171.jpg -> Annotation:F:/tumor_detection/TFODCourse/Tensorflow/workspace/images/meningioma\\1171.xml\n",
      "Image:F:\\tumor_detection\\TFODCourse\\Tensorflow\\workspace\\images\\meningioma\\1172.jpg -> Annotation:F:/tumor_detection/TFODCourse/Tensorflow/workspace/images/meningioma\\1172.xml\n",
      "Image:F:\\tumor_detection\\TFODCourse\\Tensorflow\\workspace\\images\\meningioma\\1173.jpg -> Annotation:F:/tumor_detection/TFODCourse/Tensorflow/workspace/images/meningioma\\1173.xml\n",
      "Image:F:\\tumor_detection\\TFODCourse\\Tensorflow\\workspace\\images\\meningioma\\1174.jpg -> Annotation:F:/tumor_detection/TFODCourse/Tensorflow/workspace/images/meningioma\\1174.xml\n",
      "Image:F:\\tumor_detection\\TFODCourse\\Tensorflow\\workspace\\images\\meningioma\\1175.jpg -> Annotation:F:/tumor_detection/TFODCourse/Tensorflow/workspace/images/meningioma\\1175.xml\n",
      "Image:F:\\tumor_detection\\TFODCourse\\Tensorflow\\workspace\\images\\meningioma\\1176.jpg -> Annotation:F:/tumor_detection/TFODCourse/Tensorflow/workspace/images/meningioma\\1176.xml\n",
      "Image:F:\\tumor_detection\\TFODCourse\\Tensorflow\\workspace\\images\\meningioma\\1177.jpg -> Annotation:F:/tumor_detection/TFODCourse/Tensorflow/workspace/images/meningioma\\1177.xml\n",
      "Image:F:\\tumor_detection\\TFODCourse\\Tensorflow\\workspace\\images\\meningioma\\1178.jpg -> Annotation:F:/tumor_detection/TFODCourse/Tensorflow/workspace/images/meningioma\\1178.xml\n",
      "Image:F:\\tumor_detection\\TFODCourse\\Tensorflow\\workspace\\images\\meningioma\\1179.jpg -> Annotation:F:/tumor_detection/TFODCourse/Tensorflow/workspace/images/meningioma\\1179.xml\n",
      "Image:F:\\tumor_detection\\TFODCourse\\Tensorflow\\workspace\\images\\meningioma\\1180.jpg -> Annotation:F:/tumor_detection/TFODCourse/Tensorflow/workspace/images/meningioma\\1180.xml\n",
      "Image:F:\\tumor_detection\\TFODCourse\\Tensorflow\\workspace\\images\\meningioma\\1265.jpg -> Annotation:F:/tumor_detection/TFODCourse/Tensorflow/workspace/images/meningioma\\1265.xml\n",
      "Image:F:\\tumor_detection\\TFODCourse\\Tensorflow\\workspace\\images\\meningioma\\1266.jpg -> Annotation:F:/tumor_detection/TFODCourse/Tensorflow/workspace/images/meningioma\\1266.xml\n",
      "Image:F:\\tumor_detection\\TFODCourse\\Tensorflow\\workspace\\images\\meningioma\\1267.jpg -> Annotation:F:/tumor_detection/TFODCourse/Tensorflow/workspace/images/meningioma\\1267.xml\n",
      "Image:F:\\tumor_detection\\TFODCourse\\Tensorflow\\workspace\\images\\meningioma\\1268.jpg -> Annotation:F:/tumor_detection/TFODCourse/Tensorflow/workspace/images/meningioma\\1268.xml\n",
      "Image:F:\\tumor_detection\\TFODCourse\\Tensorflow\\workspace\\images\\pituitary\\1217.jpg -> Annotation:F:/tumor_detection/TFODCourse/Tensorflow/workspace/images/pituitary\\1217.xml\n",
      "Image:F:\\tumor_detection\\TFODCourse\\Tensorflow\\workspace\\images\\pituitary\\1218.jpg -> Annotation:F:/tumor_detection/TFODCourse/Tensorflow/workspace/images/pituitary\\1218.xml\n",
      "Image:F:\\tumor_detection\\TFODCourse\\Tensorflow\\workspace\\images\\pituitary\\1219.jpg -> Annotation:F:/tumor_detection/TFODCourse/Tensorflow/workspace/images/pituitary\\1219.xml\n",
      "Image:F:\\tumor_detection\\TFODCourse\\Tensorflow\\workspace\\images\\pituitary\\1220.jpg -> Annotation:F:/tumor_detection/TFODCourse/Tensorflow/workspace/images/pituitary\\1220.xml\n",
      "Image:F:\\tumor_detection\\TFODCourse\\Tensorflow\\workspace\\images\\pituitary\\1221.jpg -> Annotation:F:/tumor_detection/TFODCourse/Tensorflow/workspace/images/pituitary\\1221.xml\n",
      "Image:F:\\tumor_detection\\TFODCourse\\Tensorflow\\workspace\\images\\pituitary\\1222.jpg -> Annotation:F:/tumor_detection/TFODCourse/Tensorflow/workspace/images/pituitary\\1222.xml\n",
      "Image:F:\\tumor_detection\\TFODCourse\\Tensorflow\\workspace\\images\\pituitary\\1223.jpg -> Annotation:F:/tumor_detection/TFODCourse/Tensorflow/workspace/images/pituitary\\1223.xml\n",
      "Image:F:\\tumor_detection\\TFODCourse\\Tensorflow\\workspace\\images\\pituitary\\1224.jpg -> Annotation:F:/tumor_detection/TFODCourse/Tensorflow/workspace/images/pituitary\\1224.xml\n",
      "Image:F:\\tumor_detection\\TFODCourse\\Tensorflow\\workspace\\images\\pituitary\\1225.jpg -> Annotation:F:/tumor_detection/TFODCourse/Tensorflow/workspace/images/pituitary\\1225.xml\n",
      "Image:F:\\tumor_detection\\TFODCourse\\Tensorflow\\workspace\\images\\pituitary\\1226.jpg -> Annotation:F:/tumor_detection/TFODCourse/Tensorflow/workspace/images/pituitary\\1226.xml\n",
      "Image:F:\\tumor_detection\\TFODCourse\\Tensorflow\\workspace\\images\\pituitary\\1227.jpg -> Annotation:F:/tumor_detection/TFODCourse/Tensorflow/workspace/images/pituitary\\1227.xml\n",
      "Cancel creation.\n"
     ]
    }
   ],
   "source": [
    "!cd {LABELIMG_PATH} && python labelImg.py"
   ]
  },
  {
   "cell_type": "markdown",
   "metadata": {},
   "source": [
    "# 6. Move them into a Training and Testing Partition"
   ]
  },
  {
   "cell_type": "markdown",
   "metadata": {},
   "source": [
    "# OPTIONAL - 7. Compress them for Colab Training"
   ]
  },
  {
   "cell_type": "code",
   "execution_count": 20,
   "metadata": {},
   "outputs": [],
   "source": [
    "TRAIN_PATH = os.path.join('Tensorflow', 'workspace', 'images', 'train')\n",
    "TEST_PATH = os.path.join('Tensorflow', 'workspace', 'images', 'test')\n",
    "ARCHIVE_PATH = os.path.join('Tensorflow', 'workspace', 'images', 'archive.tar.gz')"
   ]
  },
  {
   "cell_type": "code",
   "execution_count": 21,
   "metadata": {},
   "outputs": [],
   "source": [
    "!tar -czf {ARCHIVE_PATH} {TRAIN_PATH} {TEST_PATH}"
   ]
  },
  {
   "cell_type": "code",
   "execution_count": null,
   "metadata": {},
   "outputs": [],
   "source": []
  }
 ],
 "metadata": {
  "kernelspec": {
   "display_name": "tfod",
   "language": "python",
   "name": "tfod"
  },
  "language_info": {
   "codemirror_mode": {
    "name": "ipython",
    "version": 3
   },
   "file_extension": ".py",
   "mimetype": "text/x-python",
   "name": "python",
   "nbconvert_exporter": "python",
   "pygments_lexer": "ipython3",
   "version": "3.7.4"
  }
 },
 "nbformat": 4,
 "nbformat_minor": 2
}
